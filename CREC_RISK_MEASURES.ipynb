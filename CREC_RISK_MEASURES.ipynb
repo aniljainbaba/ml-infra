{
 "cells": [
  {
   "cell_type": "code",
   "execution_count": 1,
   "metadata": {},
   "outputs": [],
   "source": [
    "import numpy as np\n",
    "import pandas as pd\n",
    "from scipy.linalg import eigh, cholesky\n",
    "from scipy.stats import norm\n",
    "\n",
    "from pylab import plot, show, axis, subplot, xlabel, ylabel, grid\n",
    "loss_data = pd.read_excel(\"data.xlsx\")"
   ]
  },
  {
   "cell_type": "code",
   "execution_count": 2,
   "metadata": {},
   "outputs": [],
   "source": [
    "def crec_el(x):\n",
    "    return x.mean()\n",
    "\n",
    "def crec_var(x):\n",
    "    return x.quantile(0.90)\n",
    "    \n",
    "def crec_ul(x):\n",
    "    return (x.quantile(0.90) - x.mean() )\n",
    "\n",
    "def crec_cvar(x):\n",
    "    k = x.quantile(0.90)\n",
    "    x1=x[x>k]\n",
    "    return x.mean()\n"
   ]
  },
  {
   "cell_type": "code",
   "execution_count": 3,
   "metadata": {},
   "outputs": [
    {
     "data": {
      "text/html": [
       "<div>\n",
       "<style scoped>\n",
       "    .dataframe tbody tr th:only-of-type {\n",
       "        vertical-align: middle;\n",
       "    }\n",
       "\n",
       "    .dataframe tbody tr th {\n",
       "        vertical-align: top;\n",
       "    }\n",
       "\n",
       "    .dataframe thead th {\n",
       "        text-align: right;\n",
       "    }\n",
       "</style>\n",
       "<table border=\"1\" class=\"dataframe\">\n",
       "  <thead>\n",
       "    <tr style=\"text-align: right;\">\n",
       "      <th></th>\n",
       "      <th>n_acct_skey</th>\n",
       "      <th>n_simulation_number</th>\n",
       "      <th>n_loss_value</th>\n",
       "    </tr>\n",
       "  </thead>\n",
       "  <tbody>\n",
       "    <tr>\n",
       "      <th>0</th>\n",
       "      <td>1</td>\n",
       "      <td>1</td>\n",
       "      <td>1890715530</td>\n",
       "    </tr>\n",
       "    <tr>\n",
       "      <th>1</th>\n",
       "      <td>1</td>\n",
       "      <td>2</td>\n",
       "      <td>1918656992</td>\n",
       "    </tr>\n",
       "    <tr>\n",
       "      <th>2</th>\n",
       "      <td>1</td>\n",
       "      <td>3</td>\n",
       "      <td>1886845158</td>\n",
       "    </tr>\n",
       "    <tr>\n",
       "      <th>3</th>\n",
       "      <td>1</td>\n",
       "      <td>4</td>\n",
       "      <td>396265657</td>\n",
       "    </tr>\n",
       "    <tr>\n",
       "      <th>4</th>\n",
       "      <td>1</td>\n",
       "      <td>5</td>\n",
       "      <td>1559681617</td>\n",
       "    </tr>\n",
       "  </tbody>\n",
       "</table>\n",
       "</div>"
      ],
      "text/plain": [
       "   n_acct_skey  n_simulation_number  n_loss_value\n",
       "0            1                    1    1890715530\n",
       "1            1                    2    1918656992\n",
       "2            1                    3    1886845158\n",
       "3            1                    4     396265657\n",
       "4            1                    5    1559681617"
      ]
     },
     "execution_count": 3,
     "metadata": {},
     "output_type": "execute_result"
    }
   ],
   "source": [
    "loss_data.head()"
   ]
  },
  {
   "cell_type": "code",
   "execution_count": 3,
   "metadata": {
    "scrolled": true
   },
   "outputs": [
    {
     "data": {
      "text/html": [
       "<div>\n",
       "<style scoped>\n",
       "    .dataframe tbody tr th:only-of-type {\n",
       "        vertical-align: middle;\n",
       "    }\n",
       "\n",
       "    .dataframe tbody tr th {\n",
       "        vertical-align: top;\n",
       "    }\n",
       "\n",
       "    .dataframe thead tr th {\n",
       "        text-align: left;\n",
       "    }\n",
       "\n",
       "    .dataframe thead tr:last-of-type th {\n",
       "        text-align: right;\n",
       "    }\n",
       "</style>\n",
       "<table border=\"1\" class=\"dataframe\">\n",
       "  <thead>\n",
       "    <tr>\n",
       "      <th></th>\n",
       "      <th colspan=\"4\" halign=\"left\">n_loss_value</th>\n",
       "    </tr>\n",
       "    <tr>\n",
       "      <th></th>\n",
       "      <th>crec_el</th>\n",
       "      <th>crec_cvar</th>\n",
       "      <th>crec_var</th>\n",
       "      <th>crec_ul</th>\n",
       "    </tr>\n",
       "    <tr>\n",
       "      <th>n_acct_skey</th>\n",
       "      <th></th>\n",
       "      <th></th>\n",
       "      <th></th>\n",
       "      <th></th>\n",
       "    </tr>\n",
       "  </thead>\n",
       "  <tbody>\n",
       "    <tr>\n",
       "      <th>1</th>\n",
       "      <td>9.961635e+08</td>\n",
       "      <td>9.961635e+08</td>\n",
       "      <td>1.829397e+09</td>\n",
       "      <td>8.332336e+08</td>\n",
       "    </tr>\n",
       "    <tr>\n",
       "      <th>2</th>\n",
       "      <td>1.591994e+04</td>\n",
       "      <td>1.591994e+04</td>\n",
       "      <td>2.712150e+04</td>\n",
       "      <td>1.120156e+04</td>\n",
       "    </tr>\n",
       "  </tbody>\n",
       "</table>\n",
       "</div>"
      ],
      "text/plain": [
       "             n_loss_value                                          \n",
       "                  crec_el     crec_cvar      crec_var       crec_ul\n",
       "n_acct_skey                                                        \n",
       "1            9.961635e+08  9.961635e+08  1.829397e+09  8.332336e+08\n",
       "2            1.591994e+04  1.591994e+04  2.712150e+04  1.120156e+04"
      ]
     },
     "execution_count": 3,
     "metadata": {},
     "output_type": "execute_result"
    }
   ],
   "source": [
    "Risk_Measure = loss_data.groupby(['n_acct_skey']).agg({'n_loss_value': [crec_el,crec_cvar,crec_var,crec_ul]})\n",
    "Risk_Measure"
   ]
  },
  {
   "cell_type": "code",
   "execution_count": 11,
   "metadata": {},
   "outputs": [
    {
     "data": {
      "text/plain": [
       "Index(['n_acct_skey', 'n_simulation_number', 'n_loss_value'], dtype='object')"
      ]
     },
     "execution_count": 11,
     "metadata": {},
     "output_type": "execute_result"
    }
   ],
   "source": [
    "loss_data.columns"
   ]
  },
  {
   "cell_type": "code",
   "execution_count": 150,
   "metadata": {},
   "outputs": [],
   "source": [
    "#cobverting np array to python list\n",
    "acc_skeys_df = loss_data.iloc[:, 0] \n",
    "acc_skeys_df = loss_data['n_acct_skey']"
   ]
  },
  {
   "cell_type": "code",
   "execution_count": 151,
   "metadata": {},
   "outputs": [
    {
     "data": {
      "text/plain": [
       "0       1\n",
       "1       1\n",
       "2       1\n",
       "3       1\n",
       "4       1\n",
       "       ..\n",
       "1995    2\n",
       "1996    2\n",
       "1997    2\n",
       "1998    2\n",
       "1999    2\n",
       "Name: n_acct_skey, Length: 2000, dtype: int64"
      ]
     },
     "execution_count": 151,
     "metadata": {},
     "output_type": "execute_result"
    }
   ],
   "source": [
    "acc_skeys_df"
   ]
  },
  {
   "cell_type": "code",
   "execution_count": 152,
   "metadata": {},
   "outputs": [],
   "source": [
    "acc_skeys_nd_arr = acc_skeys_df.values"
   ]
  },
  {
   "cell_type": "code",
   "execution_count": 153,
   "metadata": {},
   "outputs": [],
   "source": [
    "acc_skeys_nd_list = acc_skeys_nd_arr.tolist"
   ]
  },
  {
   "cell_type": "code",
   "execution_count": 154,
   "metadata": {},
   "outputs": [],
   "source": [
    "acc_skeys_list = list(acc_skeys_nd_arr.flatten())"
   ]
  },
  {
   "cell_type": "code",
   "execution_count": 57,
   "metadata": {},
   "outputs": [
    {
     "data": {
      "text/plain": [
       "list"
      ]
     },
     "execution_count": 57,
     "metadata": {},
     "output_type": "execute_result"
    }
   ],
   "source": [
    "type(acc_skeys_list)"
   ]
  },
  {
   "cell_type": "code",
   "execution_count": 93,
   "metadata": {},
   "outputs": [],
   "source": []
  },
  {
   "cell_type": "code",
   "execution_count": 98,
   "metadata": {},
   "outputs": [],
   "source": [
    "#python dictionary examples\n",
    "acctbatches_dict  = {}\n",
    "batch_id = 1\n",
    "for acc_skey in acc_list:\n",
    "    acctbatches_dict[batch_id] = acc_skey\n",
    "    batch_id = batch_id + 1\n"
   ]
  },
  {
   "cell_type": "code",
   "execution_count": 2,
   "metadata": {},
   "outputs": [],
   "source": [
    "acc_list =  [*range(101,125)]"
   ]
  },
  {
   "cell_type": "code",
   "execution_count": 6,
   "metadata": {},
   "outputs": [
    {
     "name": "stdout",
     "output_type": "stream",
     "text": [
      "0\n",
      "[101]\n",
      "1\n",
      "[102]\n",
      "2\n",
      "[103]\n",
      "3\n",
      "[104]\n",
      "4\n",
      "[105]\n",
      "5\n",
      "[106]\n",
      "6\n",
      "[107]\n",
      "7\n",
      "[108]\n",
      "8\n",
      "[109]\n",
      "9\n",
      "[110]\n",
      "10\n",
      "[111]\n",
      "11\n",
      "[112]\n",
      "12\n",
      "[113]\n",
      "13\n",
      "[114]\n",
      "14\n",
      "[115]\n",
      "15\n",
      "[116]\n",
      "16\n",
      "[117]\n",
      "17\n",
      "[118]\n",
      "18\n",
      "[119]\n",
      "19\n",
      "[120]\n",
      "20\n",
      "[121]\n",
      "21\n",
      "[122]\n",
      "22\n",
      "[123]\n",
      "23\n",
      "[124]\n"
     ]
    }
   ],
   "source": [
    "#divide acc skeys list to batches\n",
    "acc_len = len(acc_list)\n",
    "batch_list  = []\n",
    "batch_size = 1\n",
    "for i in range(0, acc_len, batch_size):\n",
    "    print(i) \n",
    "    temp_acc_list = acc_list[i: (i + batch_size)]\n",
    "    print(temp_acc_list)\n",
    "    batch_list.append(temp_acc_list)\n",
    "    "
   ]
  },
  {
   "cell_type": "code",
   "execution_count": 7,
   "metadata": {},
   "outputs": [
    {
     "data": {
      "text/plain": [
       "[[101],\n",
       " [102],\n",
       " [103],\n",
       " [104],\n",
       " [105],\n",
       " [106],\n",
       " [107],\n",
       " [108],\n",
       " [109],\n",
       " [110],\n",
       " [111],\n",
       " [112],\n",
       " [113],\n",
       " [114],\n",
       " [115],\n",
       " [116],\n",
       " [117],\n",
       " [118],\n",
       " [119],\n",
       " [120],\n",
       " [121],\n",
       " [122],\n",
       " [123],\n",
       " [124]]"
      ]
     },
     "execution_count": 7,
     "metadata": {},
     "output_type": "execute_result"
    }
   ],
   "source": [
    "batch_list"
   ]
  },
  {
   "cell_type": "code",
   "execution_count": null,
   "metadata": {},
   "outputs": [],
   "source": []
  },
  {
   "cell_type": "code",
   "execution_count": null,
   "metadata": {},
   "outputs": [],
   "source": []
  }
 ],
 "metadata": {
  "kernelspec": {
   "display_name": "Python 3",
   "language": "python",
   "name": "python3"
  },
  "language_info": {
   "codemirror_mode": {
    "name": "ipython",
    "version": 3
   },
   "file_extension": ".py",
   "mimetype": "text/x-python",
   "name": "python",
   "nbconvert_exporter": "python",
   "pygments_lexer": "ipython3",
   "version": "3.8.8"
  }
 },
 "nbformat": 4,
 "nbformat_minor": 4
}
